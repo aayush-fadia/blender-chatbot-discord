{
 "nbformat": 4,
 "nbformat_minor": 0,
 "metadata": {
  "colab": {
   "name": "BlenderTest.ipynb",
   "provenance": [],
   "private_outputs": true
  },
  "kernelspec": {
   "name": "python3",
   "display_name": "Python 3"
  },
  "accelerator": "GPU"
 },
 "cells": [
  {
   "cell_type": "code",
   "metadata": {
    "id": "MSGMOtcJqQL2",
    "colab_type": "code",
    "colab": {}
   },
   "source": [
    "!git clone https://github.com/facebookresearch/ParlAI.git\n",
    "!cd ParlAI; python setup.py develop\n",
    "!pip install 'git+https://github.com/rsennrich/subword-nmt.git#egg=subword-nmt'\n",
    "!pip install -U discord.py"
   ],
   "execution_count": 0,
   "outputs": []
  },
  {
   "cell_type": "code",
   "metadata": {
    "id": "xtVtZ2M9omv_",
    "colab_type": "code",
    "colab": {}
   },
   "source": [
    "import pexpect\n",
    "class ChatHandler:\n",
    "    def __init__(self):\n",
    "        self.child = pexpect.spawn('python ParlAI/parlai/scripts/interactive.py -t blended_skill_talk -mf zoo:blender/blender_90M/model', timeout=None)\n",
    "        self.child.expect('Enter Your Message:')\n",
    "        self.personality = self.child.before.decode('utf-8', 'ignore').split('[context]')[1]\n",
    "    def listen(self):\n",
    "        response = self.child.before\n",
    "        resp = response.split(b'1m')\n",
    "        respfinal = resp[1].split(b'\\x1b')\n",
    "        return respfinal[0].decode('utf-8')\n",
    "    def say(self, message):\n",
    "        self.child.sendline(message)\n",
    "        self.child.expect('Enter Your Message:')"
   ],
   "execution_count": 0,
   "outputs": []
  },
  {
   "cell_type": "code",
   "metadata": {
    "id": "5qoUeNZkW-H9",
    "colab_type": "code",
    "colab": {}
   },
   "source": [
    "!python ParlAI/parlai/scripts/interactive.py -t blended_skill_talk -mf zoo:blender/blender_90M/model"
   ],
   "execution_count": 0,
   "outputs": []
  },
  {
   "cell_type": "code",
   "metadata": {
    "id": "t83UkN_RsHHJ",
    "colab_type": "code",
    "colab": {}
   },
   "source": [
    "import os\n",
    "\n",
    "import discord\n",
    "\n",
    "TOKEN = \"PUT YOUR TOKEN HERE\"\n",
    "\n",
    "client = discord.Client()\n",
    "\n",
    "chat = ChatHandler()\n",
    "print(\"Chat Inited\")\n",
    "@client.event\n",
    "async def on_message(message):\n",
    "    if message.content == 'chattrpersona':\n",
    "        print(chat.personality)\n",
    "        await message.channel.send(chat.personality)\n",
    "    if message.content.startswith(\"chattr \"):\n",
    "        print(\"Intercepted Message\")\n",
    "        saying = message.content[7:]\n",
    "        chat.say(saying)\n",
    "        response = chat.listen()\n",
    "        await message.channel.send(response)\n",
    "\n",
    "client.run(TOKEN)"
   ],
   "execution_count": 0,
   "outputs": []
  },
  {
   "cell_type": "code",
   "metadata": {
    "id": "nAmyunN87vy_",
    "colab_type": "code",
    "colab": {}
   },
   "source": [
    "import pexpect\n",
    "class ChatHandler:\n",
    "    def __init__(self):\n",
    "        self.child = pexpect.spawn('python ParlAI/parlai/scripts/interactive.py -t blended_skill_talk -mf zoo:blender/blender_90M/model', timeout=None)\n",
    "        self.child.expect('Enter Your Message:')\n",
    "        self.personality = self.child.before.decode('utf-8', 'ignore').split('[context]')[1]\n",
    "    def listen(self):\n",
    "        response = self.child.before\n",
    "        resp = response.split(b'1m')\n",
    "        respfinal = resp[1].split(b'\\x1b')\n",
    "        return respfinal[0].decode('utf-8')\n",
    "    def say(self, message):\n",
    "        self.child.sendline(message)\n",
    "        self.child.expect('Enter Your Message:')\n",
    "\n",
    "import discord\n",
    "TOKEN = \"PUT YOUR TOKEN HERE\"\n",
    "class Chattr(discord.Client):\n",
    "    async def on_ready(self):\n",
    "        self.server_chats = dict()\n",
    "        for server in self.guilds:\n",
    "            self.server_chats[server.name] = ChatHandler()\n",
    "    async def on_message(self, message):\n",
    "        print(message.content)\n",
    "        print(message.author.id)\n",
    "        print(self.user.id)\n",
    "        if message.content == 'chattrpersona':\n",
    "            await message.channel.send(chat.personality)\n",
    "        if message.content == 'chattrforget':\n",
    "            self.server_chats[message.guild.name].say('[DONE]')\n",
    "            await message.channel.send('Chat history forgotten.')\n",
    "        if message.content.startswith(\"chattr \"):\n",
    "            saying = message.content[7:]\n",
    "            self.server_chats[message.guild.name].say(saying)\n",
    "            response = self.server_chats[message.guild.name].listen()\n",
    "            await message.channel.send(response)\n",
    "client = Chattr()\n",
    "client.run(TOKEN)"
   ],
   "execution_count": 0,
   "outputs": []
  }
 ]
}