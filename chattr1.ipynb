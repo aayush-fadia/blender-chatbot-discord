{
 "nbformat": 4,
 "nbformat_minor": 0,
 "metadata": {
  "colab": {
   "name": "chattr1.ipynb",
   "provenance": [],
   "private_outputs": true
  },
  "kernelspec": {
   "name": "python3",
   "display_name": "Python 3"
  },
  "accelerator": "GPU"
 },
 "cells": [
  {
   "cell_type": "code",
   "metadata": {
    "id": "B_DoGQGSdq17",
    "colab_type": "code",
    "colab": {}
   },
   "source": [
    "!git clone https://github.com/facebookresearch/ParlAI.git\n",
    "!cd ParlAI; python setup.py develop\n",
    "!pip install 'git+https://github.com/rsennrich/subword-nmt.git#egg=subword-nmt'\n",
    "!pip install -U discord.py"
   ],
   "execution_count": 0,
   "outputs": []
  },
  {
   "cell_type": "code",
   "metadata": {
    "id": "GYFiVYGxdyJE",
    "colab_type": "code",
    "colab": {}
   },
   "source": [
    "import pexpect\n",
    "class ChatHandler:\n",
    "    def __init__(self):\n",
    "        self.child = pexpect.spawn('python ParlAI/parlai/scripts/interactive.py -t blended_skill_talk -mf zoo:blender/blender_90M/model', timeout=None)\n",
    "        self.child.expect('Enter Your Message:')\n",
    "        self.personality = self.child.before.decode('utf-8', 'ignore').split('[context]')[1]\n",
    "    def listen(self):\n",
    "        response = self.child.before\n",
    "        resp = response.split(b'1m')\n",
    "        respfinal = resp[1].split(b'\\x1b')\n",
    "        return respfinal[0].decode('utf-8')\n",
    "    def say(self, message):\n",
    "        self.child.sendline(message)\n",
    "        self.child.expect('Enter Your Message:')"
   ],
   "execution_count": 0,
   "outputs": []
  },
  {
   "cell_type": "code",
   "metadata": {
    "id": "3x5gaGHNecbc",
    "colab_type": "code",
    "colab": {}
   },
   "source": [
    "import discord\n",
    "TOKEN = \"PUT YOUR TOKEN HERE\"\n",
    "SERVER = 'DiscordDrive'\n",
    "CHANNEL_NAME = 'bot-conversation'\n",
    "class Chattr1(discord.Client):\n",
    "    async def on_ready(self):\n",
    "        print(\"Prepping Chat\")\n",
    "        self.chat = ChatHandler()\n",
    "        print(\"Chat Prepped\")\n",
    "        for guild in self.guilds:\n",
    "            print(guild.name)\n",
    "            if guild.name == SERVER:\n",
    "                break\n",
    "        for channel in guild.channels:\n",
    "            if channel.name == CHANNEL_NAME:\n",
    "                await channel.send('hi')\n",
    "                print(\"Channel Found\")\n",
    "                break\n",
    "    async def on_message(self, message):\n",
    "        if message.channel.name == CHANNEL_NAME and message.channel.guild.name == SERVER and message.author.id != self.user.id:\n",
    "            saying = message.content[7:]\n",
    "            self.chat.say(saying)\n",
    "            response = self.chat.listen()\n",
    "            await message.channel.send(response)\n",
    "client = Chattr1()\n",
    "client.run(TOKEN)"
   ],
   "execution_count": 0,
   "outputs": []
  },
  {
   "cell_type": "code",
   "metadata": {
    "id": "u4vxNCO4jMoP",
    "colab_type": "code",
    "colab": {}
   },
   "source": [
    ""
   ],
   "execution_count": 0,
   "outputs": []
  }
 ]
}